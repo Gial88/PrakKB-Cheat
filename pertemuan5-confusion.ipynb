{
 "cells": [
  {
   "cell_type": "code",
   "execution_count": 2,
   "metadata": {},
   "outputs": [],
   "source": [
    "import numpy as np\n",
    "import matplotlib.pyplot as plt\n",
    "import tensorflow as tf\n",
    "\n",
    "from sklearn.naive_bayes import GaussianNB\n",
    "from sklearn.metrics import confusion_matrix"
   ]
  },
  {
   "cell_type": "code",
   "execution_count": 3,
   "metadata": {},
   "outputs": [],
   "source": [
    "(data_training, label_training),(data_testing, label_testing) = tf.keras.datasets.mnist.load_data()\n",
    "data_training = data_training.reshape(60000, 784)\n",
    "data_testing = data_testing.reshape(10000, 784)"
   ]
  },
  {
   "cell_type": "code",
   "execution_count": 6,
   "metadata": {},
   "outputs": [
    {
     "data": {
      "text/plain": [
       "array([[0, 0, 0, ..., 0, 0, 0],\n",
       "       [0, 0, 0, ..., 0, 0, 0],\n",
       "       [0, 0, 0, ..., 0, 0, 0],\n",
       "       ...,\n",
       "       [0, 0, 0, ..., 0, 0, 0],\n",
       "       [0, 0, 0, ..., 0, 0, 0],\n",
       "       [0, 0, 0, ..., 0, 0, 0]], dtype=uint8)"
      ]
     },
     "execution_count": 6,
     "metadata": {},
     "output_type": "execute_result"
    }
   ],
   "source": [
    "data_training"
   ]
  },
  {
   "cell_type": "code",
   "execution_count": 19,
   "metadata": {},
   "outputs": [
    {
     "data": {
      "text/plain": [
       "<matplotlib.image.AxesImage at 0x250c21f62c0>"
      ]
     },
     "execution_count": 19,
     "metadata": {},
     "output_type": "execute_result"
    },
    {
     "data": {
      "image/png": "[encoded data removed]",
      "text/plain": [
       "<Figure size 640x480 with 1 Axes>"
      ]
     },
     "metadata": {},
     "output_type": "display_data"
    }
   ],
   "source": [
    "plt.imshow(data_training[1000].reshape((28,28)),cmap='gray')"
   ]
  },
  {
   "cell_type": "code",
   "execution_count": 20,
   "metadata": {},
   "outputs": [
    {
     "name": "stdout",
     "output_type": "stream",
     "text": [
      "[[ 870    0    3    5    2    5   31    1   35   28]\n",
      " [   0 1079    2    1    0    0   10    0   38    5]\n",
      " [  79   25  266   91    5    2  269    4  271   20]\n",
      " [  32   39    6  353    2    3   51    8  409  107]\n",
      " [  19    2    5    4  168    7   63    7  210  497]\n",
      " [  71   25    1   20    3   44   40    2  586  100]\n",
      " [  12   12    3    1    1    7  895    0   26    1]\n",
      " [   0   15    2   10    5    1    5  280   39  671]\n",
      " [  13   72    3    7    3   11   12    4  648  201]\n",
      " [   5    7    3    6    1    0    1   13   18  955]]\n"
     ]
    }
   ],
   "source": [
    "model = GaussianNB()\n",
    "fit_nb = model.fit(data_training, label_training)\n",
    "prediction_result = fit_nb.predict(data_testing)\n",
    "con_matrix = confusion_matrix(label_testing, prediction_result)\n",
    "print(con_matrix)"
   ]
  },
  {
   "cell_type": "code",
   "execution_count": null,
   "metadata": {},
   "outputs": [],
   "source": []
  }
 ],
 "metadata": {
  "kernelspec": {
   "display_name": "Python 3.10.7 64-bit",
   "language": "python",
   "name": "python3"
  },
  "language_info": {
   "codemirror_mode": {
    "name": "ipython",
    "version": 3
   },
   "file_extension": ".py",
   "mimetype": "text/x-python",
   "name": "python",
   "nbconvert_exporter": "python",
   "pygments_lexer": "ipython3",
   "version": "3.10.7"
  },
  "orig_nbformat": 4,
  "vscode": {
   "interpreter": {
    "hash": "cf82468c729b6304ed506bfd0627eaaf0228f95b62ceb5ee5f980165fc41435e"
   }
  }
 },
 "nbformat": 4,
 "nbformat_minor": 2
}
