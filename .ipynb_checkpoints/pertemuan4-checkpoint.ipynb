{
 "cells": [
  {
   "cell_type": "markdown",
   "id": "c8b65a5b-b700-45b1-a13b-77da24317902",
   "metadata": {},
   "source": [
    "##IMPORTING LIBRARY"
   ]
  },
  {
   "cell_type": "code",
   "execution_count": 65,
   "id": "31367c73-d090-4307-bcb3-d65d2a0e45e0",
   "metadata": {},
   "outputs": [],
   "source": [
    "import pandas as pd\n",
    "import numpy as np\n",
    "from sklearn.model_selection import train_test_split\n",
    "from sklearn.preprocessing import StandardScaler\n",
    "from sklearn.preprocessing import MinMaxScaler\n",
    "from sklearn.impute import SimpleImputer\n",
    "from sklearn.preprocessing import OrdinalEncoder\n",
    "from sklearn.preprocessing import OneHotEncoder"
   ]
  },
  {
   "cell_type": "markdown",
   "id": "ee594b96-1545-4de1-b558-056ddeaed002",
   "metadata": {},
   "source": [
    "lst = ['geeks', 'for','geeks']"
   ]
  },
  {
   "cell_type": "code",
   "execution_count": 49,
   "id": "bf2c9c3e-4a6a-4d7b-8ef2-c9ab3b1d1191",
   "metadata": {},
   "outputs": [],
   "source": [
    "df = pd.read_csv('https://raw.githubusercontent.com/mwaskom/seaborn-data/master/iris.csv')"
   ]
  },
  {
   "cell_type": "code",
   "execution_count": 50,
   "id": "03d5986b-4d30-42e4-9c67-36f2d6ac26b9",
   "metadata": {},
   "outputs": [
    {
     "data": {
      "text/html": [
       "<div>\n",
       "<style scoped>\n",
       "    .dataframe tbody tr th:only-of-type {\n",
       "        vertical-align: middle;\n",
       "    }\n",
       "\n",
       "    .dataframe tbody tr th {\n",
       "        vertical-align: top;\n",
       "    }\n",
       "\n",
       "    .dataframe thead th {\n",
       "        text-align: right;\n",
       "    }\n",
       "</style>\n",
       "<table border=\"1\" class=\"dataframe\">\n",
       "  <thead>\n",
       "    <tr style=\"text-align: right;\">\n",
       "      <th></th>\n",
       "      <th>sepal_length</th>\n",
       "      <th>sepal_width</th>\n",
       "      <th>petal_length</th>\n",
       "      <th>petal_width</th>\n",
       "      <th>species</th>\n",
       "    </tr>\n",
       "  </thead>\n",
       "  <tbody>\n",
       "    <tr>\n",
       "      <th>0</th>\n",
       "      <td>5.1</td>\n",
       "      <td>3.5</td>\n",
       "      <td>1.4</td>\n",
       "      <td>0.2</td>\n",
       "      <td>setosa</td>\n",
       "    </tr>\n",
       "    <tr>\n",
       "      <th>1</th>\n",
       "      <td>4.9</td>\n",
       "      <td>3.0</td>\n",
       "      <td>1.4</td>\n",
       "      <td>0.2</td>\n",
       "      <td>setosa</td>\n",
       "    </tr>\n",
       "    <tr>\n",
       "      <th>2</th>\n",
       "      <td>4.7</td>\n",
       "      <td>3.2</td>\n",
       "      <td>1.3</td>\n",
       "      <td>0.2</td>\n",
       "      <td>setosa</td>\n",
       "    </tr>\n",
       "    <tr>\n",
       "      <th>3</th>\n",
       "      <td>4.6</td>\n",
       "      <td>3.1</td>\n",
       "      <td>1.5</td>\n",
       "      <td>0.2</td>\n",
       "      <td>setosa</td>\n",
       "    </tr>\n",
       "    <tr>\n",
       "      <th>4</th>\n",
       "      <td>5.0</td>\n",
       "      <td>3.6</td>\n",
       "      <td>1.4</td>\n",
       "      <td>0.2</td>\n",
       "      <td>setosa</td>\n",
       "    </tr>\n",
       "    <tr>\n",
       "      <th>...</th>\n",
       "      <td>...</td>\n",
       "      <td>...</td>\n",
       "      <td>...</td>\n",
       "      <td>...</td>\n",
       "      <td>...</td>\n",
       "    </tr>\n",
       "    <tr>\n",
       "      <th>145</th>\n",
       "      <td>6.7</td>\n",
       "      <td>3.0</td>\n",
       "      <td>5.2</td>\n",
       "      <td>2.3</td>\n",
       "      <td>virginica</td>\n",
       "    </tr>\n",
       "    <tr>\n",
       "      <th>146</th>\n",
       "      <td>6.3</td>\n",
       "      <td>2.5</td>\n",
       "      <td>5.0</td>\n",
       "      <td>1.9</td>\n",
       "      <td>virginica</td>\n",
       "    </tr>\n",
       "    <tr>\n",
       "      <th>147</th>\n",
       "      <td>6.5</td>\n",
       "      <td>3.0</td>\n",
       "      <td>5.2</td>\n",
       "      <td>2.0</td>\n",
       "      <td>virginica</td>\n",
       "    </tr>\n",
       "    <tr>\n",
       "      <th>148</th>\n",
       "      <td>6.2</td>\n",
       "      <td>3.4</td>\n",
       "      <td>5.4</td>\n",
       "      <td>2.3</td>\n",
       "      <td>virginica</td>\n",
       "    </tr>\n",
       "    <tr>\n",
       "      <th>149</th>\n",
       "      <td>5.9</td>\n",
       "      <td>3.0</td>\n",
       "      <td>5.1</td>\n",
       "      <td>1.8</td>\n",
       "      <td>virginica</td>\n",
       "    </tr>\n",
       "  </tbody>\n",
       "</table>\n",
       "<p>150 rows × 5 columns</p>\n",
       "</div>"
      ],
      "text/plain": [
       "     sepal_length  sepal_width  petal_length  petal_width    species\n",
       "0             5.1          3.5           1.4          0.2     setosa\n",
       "1             4.9          3.0           1.4          0.2     setosa\n",
       "2             4.7          3.2           1.3          0.2     setosa\n",
       "3             4.6          3.1           1.5          0.2     setosa\n",
       "4             5.0          3.6           1.4          0.2     setosa\n",
       "..            ...          ...           ...          ...        ...\n",
       "145           6.7          3.0           5.2          2.3  virginica\n",
       "146           6.3          2.5           5.0          1.9  virginica\n",
       "147           6.5          3.0           5.2          2.0  virginica\n",
       "148           6.2          3.4           5.4          2.3  virginica\n",
       "149           5.9          3.0           5.1          1.8  virginica\n",
       "\n",
       "[150 rows x 5 columns]"
      ]
     },
     "execution_count": 50,
     "metadata": {},
     "output_type": "execute_result"
    }
   ],
   "source": [
    "df"
   ]
  },
  {
   "cell_type": "code",
   "execution_count": 51,
   "id": "039ab213-b819-46cf-8c42-9f29ff149765",
   "metadata": {},
   "outputs": [
    {
     "data": {
      "text/plain": [
       "(150, 5)"
      ]
     },
     "execution_count": 51,
     "metadata": {},
     "output_type": "execute_result"
    }
   ],
   "source": [
    "df.shape"
   ]
  },
  {
   "cell_type": "code",
   "execution_count": 52,
   "id": "44d8caee-d38d-4a21-85e3-4c24b6f99cef",
   "metadata": {},
   "outputs": [
    {
     "data": {
      "text/html": [
       "<div>\n",
       "<style scoped>\n",
       "    .dataframe tbody tr th:only-of-type {\n",
       "        vertical-align: middle;\n",
       "    }\n",
       "\n",
       "    .dataframe tbody tr th {\n",
       "        vertical-align: top;\n",
       "    }\n",
       "\n",
       "    .dataframe thead th {\n",
       "        text-align: right;\n",
       "    }\n",
       "</style>\n",
       "<table border=\"1\" class=\"dataframe\">\n",
       "  <thead>\n",
       "    <tr style=\"text-align: right;\">\n",
       "      <th></th>\n",
       "      <th>sepal_length</th>\n",
       "      <th>sepal_width</th>\n",
       "      <th>petal_length</th>\n",
       "      <th>petal_width</th>\n",
       "    </tr>\n",
       "  </thead>\n",
       "  <tbody>\n",
       "    <tr>\n",
       "      <th>0</th>\n",
       "      <td>5.1</td>\n",
       "      <td>3.5</td>\n",
       "      <td>1.4</td>\n",
       "      <td>0.2</td>\n",
       "    </tr>\n",
       "    <tr>\n",
       "      <th>1</th>\n",
       "      <td>4.9</td>\n",
       "      <td>3.0</td>\n",
       "      <td>1.4</td>\n",
       "      <td>0.2</td>\n",
       "    </tr>\n",
       "    <tr>\n",
       "      <th>2</th>\n",
       "      <td>4.7</td>\n",
       "      <td>3.2</td>\n",
       "      <td>1.3</td>\n",
       "      <td>0.2</td>\n",
       "    </tr>\n",
       "    <tr>\n",
       "      <th>3</th>\n",
       "      <td>4.6</td>\n",
       "      <td>3.1</td>\n",
       "      <td>1.5</td>\n",
       "      <td>0.2</td>\n",
       "    </tr>\n",
       "    <tr>\n",
       "      <th>4</th>\n",
       "      <td>5.0</td>\n",
       "      <td>3.6</td>\n",
       "      <td>1.4</td>\n",
       "      <td>0.2</td>\n",
       "    </tr>\n",
       "    <tr>\n",
       "      <th>...</th>\n",
       "      <td>...</td>\n",
       "      <td>...</td>\n",
       "      <td>...</td>\n",
       "      <td>...</td>\n",
       "    </tr>\n",
       "    <tr>\n",
       "      <th>145</th>\n",
       "      <td>6.7</td>\n",
       "      <td>3.0</td>\n",
       "      <td>5.2</td>\n",
       "      <td>2.3</td>\n",
       "    </tr>\n",
       "    <tr>\n",
       "      <th>146</th>\n",
       "      <td>6.3</td>\n",
       "      <td>2.5</td>\n",
       "      <td>5.0</td>\n",
       "      <td>1.9</td>\n",
       "    </tr>\n",
       "    <tr>\n",
       "      <th>147</th>\n",
       "      <td>6.5</td>\n",
       "      <td>3.0</td>\n",
       "      <td>5.2</td>\n",
       "      <td>2.0</td>\n",
       "    </tr>\n",
       "    <tr>\n",
       "      <th>148</th>\n",
       "      <td>6.2</td>\n",
       "      <td>3.4</td>\n",
       "      <td>5.4</td>\n",
       "      <td>2.3</td>\n",
       "    </tr>\n",
       "    <tr>\n",
       "      <th>149</th>\n",
       "      <td>5.9</td>\n",
       "      <td>3.0</td>\n",
       "      <td>5.1</td>\n",
       "      <td>1.8</td>\n",
       "    </tr>\n",
       "  </tbody>\n",
       "</table>\n",
       "<p>150 rows × 4 columns</p>\n",
       "</div>"
      ],
      "text/plain": [
       "     sepal_length  sepal_width  petal_length  petal_width\n",
       "0             5.1          3.5           1.4          0.2\n",
       "1             4.9          3.0           1.4          0.2\n",
       "2             4.7          3.2           1.3          0.2\n",
       "3             4.6          3.1           1.5          0.2\n",
       "4             5.0          3.6           1.4          0.2\n",
       "..            ...          ...           ...          ...\n",
       "145           6.7          3.0           5.2          2.3\n",
       "146           6.3          2.5           5.0          1.9\n",
       "147           6.5          3.0           5.2          2.0\n",
       "148           6.2          3.4           5.4          2.3\n",
       "149           5.9          3.0           5.1          1.8\n",
       "\n",
       "[150 rows x 4 columns]"
      ]
     },
     "execution_count": 52,
     "metadata": {},
     "output_type": "execute_result"
    }
   ],
   "source": [
    "x = df.iloc[:,:-1]\n",
    "y = df.iloc[:,-1]\n",
    "x"
   ]
  },
  {
   "cell_type": "code",
   "execution_count": 53,
   "id": "66cd1b48-1257-4ef5-8cef-560769f1ce42",
   "metadata": {},
   "outputs": [
    {
     "data": {
      "text/plain": [
       "0         setosa\n",
       "1         setosa\n",
       "2         setosa\n",
       "3         setosa\n",
       "4         setosa\n",
       "         ...    \n",
       "145    virginica\n",
       "146    virginica\n",
       "147    virginica\n",
       "148    virginica\n",
       "149    virginica\n",
       "Name: species, Length: 150, dtype: object"
      ]
     },
     "execution_count": 53,
     "metadata": {},
     "output_type": "execute_result"
    }
   ],
   "source": [
    "y"
   ]
  },
  {
   "cell_type": "code",
   "execution_count": 54,
   "id": "07e99d9c-92a7-4cc5-a72d-e915b7324169",
   "metadata": {},
   "outputs": [],
   "source": [
    "x_train, x_test, y_train, y_test = train_test_split(x,y, test_size=0.2)"
   ]
  },
  {
   "cell_type": "code",
   "execution_count": 55,
   "id": "01d71daf-5f7b-4d77-b419-ac12835b63d1",
   "metadata": {},
   "outputs": [
    {
     "name": "stdout",
     "output_type": "stream",
     "text": [
      "Dimensi X_train :  (120, 4)\n",
      "Dimensi X_train :  (30, 4)\n",
      "Dimensi y_train :  (120,)\n",
      "Dimensi y_test :  (30,)\n"
     ]
    }
   ],
   "source": [
    "print(\"Dimensi X_train : \", x_train.shape)\n",
    "print(\"Dimensi X_train : \", x_test.shape)\n",
    "print(\"Dimensi y_train : \", y_train.shape)\n",
    "print(\"Dimensi y_test : \", y_test.shape)"
   ]
  },
  {
   "cell_type": "code",
   "execution_count": 58,
   "id": "4be4df27-e807-4d4f-8c17-9aac6660fed3",
   "metadata": {},
   "outputs": [
    {
     "data": {
      "text/plain": [
       "Index(['sepal_length', 'sepal_width', 'petal_length', 'petal_width',\n",
       "       'species'],\n",
       "      dtype='object')"
      ]
     },
     "execution_count": 58,
     "metadata": {},
     "output_type": "execute_result"
    }
   ],
   "source": [
    "df.columns"
   ]
  },
  {
   "cell_type": "markdown",
   "id": "59e66d47-2d2f-416b-9e8d-41c3005477fa",
   "metadata": {},
   "source": [
    "##DATA SPLIT USING"
   ]
  },
  {
   "cell_type": "code",
   "execution_count": 61,
   "id": "e3fda905-ea85-40fc-857e-4e568b337595",
   "metadata": {},
   "outputs": [],
   "source": [
    "data_train =df[['sepal_length', 'sepal_width', 'petal_length', 'petal_width']][:120]\n",
    "label_train = df[['species']][:120]\n",
    "data_validation = df[['sepal_length', 'sepal_width', 'petal_length', 'petal_width']][-30:]\n",
    "label_validation = df[['species']][-30:]"
   ]
  },
  {
   "cell_type": "code",
   "execution_count": 62,
   "id": "c0577e51-1f39-4bab-9898-788428f60216",
   "metadata": {},
   "outputs": [
    {
     "name": "stdout",
     "output_type": "stream",
     "text": [
      "Dimensi X_train :  120\n",
      "Dimensi X_train :  120\n",
      "Dimensi y_train :  30\n",
      "Dimensi y_test :  30\n"
     ]
    }
   ],
   "source": [
    "print(\"Dimensi X_train : \", len(data_train))\n",
    "print(\"Dimensi X_train : \", len(label_train))\n",
    "print(\"Dimensi y_train : \", len(data_validation))\n",
    "print(\"Dimensi y_test : \", len(label_validation))"
   ]
  },
  {
   "cell_type": "code",
   "execution_count": 69,
   "id": "04e703c2-abe2-4434-9deb-fda2d0fecd71",
   "metadata": {},
   "outputs": [],
   "source": [
    "MinMaxScaler = MinMaxScaler()"
   ]
  },
  {
   "cell_type": "code",
   "execution_count": 78,
   "id": "9217b642-39a1-4efd-b9b6-0e08be9c586a",
   "metadata": {},
   "outputs": [],
   "source": [
    "data_norm = minMaxScaler.fit_transform(df[['sepal_length', 'sepal_width', 'petal_length', 'petal_width']])"
   ]
  },
  {
   "cell_type": "code",
   "execution_count": 79,
   "id": "3acea686-4c54-4e1c-8244-656dfc69f033",
   "metadata": {},
   "outputs": [],
   "source": [
    "data_hasil_norm = pd.DataFrame(data_norm)"
   ]
  },
  {
   "cell_type": "code",
   "execution_count": 80,
   "id": "28db00b1-6496-492d-8870-020e43489299",
   "metadata": {},
   "outputs": [
    {
     "data": {
      "text/html": [
       "<div>\n",
       "<style scoped>\n",
       "    .dataframe tbody tr th:only-of-type {\n",
       "        vertical-align: middle;\n",
       "    }\n",
       "\n",
       "    .dataframe tbody tr th {\n",
       "        vertical-align: top;\n",
       "    }\n",
       "\n",
       "    .dataframe thead th {\n",
       "        text-align: right;\n",
       "    }\n",
       "</style>\n",
       "<table border=\"1\" class=\"dataframe\">\n",
       "  <thead>\n",
       "    <tr style=\"text-align: right;\">\n",
       "      <th></th>\n",
       "      <th>0</th>\n",
       "      <th>1</th>\n",
       "      <th>2</th>\n",
       "      <th>3</th>\n",
       "    </tr>\n",
       "  </thead>\n",
       "  <tbody>\n",
       "    <tr>\n",
       "      <th>0</th>\n",
       "      <td>0.222222</td>\n",
       "      <td>0.625000</td>\n",
       "      <td>0.067797</td>\n",
       "      <td>0.041667</td>\n",
       "    </tr>\n",
       "    <tr>\n",
       "      <th>1</th>\n",
       "      <td>0.166667</td>\n",
       "      <td>0.416667</td>\n",
       "      <td>0.067797</td>\n",
       "      <td>0.041667</td>\n",
       "    </tr>\n",
       "    <tr>\n",
       "      <th>2</th>\n",
       "      <td>0.111111</td>\n",
       "      <td>0.500000</td>\n",
       "      <td>0.050847</td>\n",
       "      <td>0.041667</td>\n",
       "    </tr>\n",
       "    <tr>\n",
       "      <th>3</th>\n",
       "      <td>0.083333</td>\n",
       "      <td>0.458333</td>\n",
       "      <td>0.084746</td>\n",
       "      <td>0.041667</td>\n",
       "    </tr>\n",
       "    <tr>\n",
       "      <th>4</th>\n",
       "      <td>0.194444</td>\n",
       "      <td>0.666667</td>\n",
       "      <td>0.067797</td>\n",
       "      <td>0.041667</td>\n",
       "    </tr>\n",
       "    <tr>\n",
       "      <th>...</th>\n",
       "      <td>...</td>\n",
       "      <td>...</td>\n",
       "      <td>...</td>\n",
       "      <td>...</td>\n",
       "    </tr>\n",
       "    <tr>\n",
       "      <th>145</th>\n",
       "      <td>0.666667</td>\n",
       "      <td>0.416667</td>\n",
       "      <td>0.711864</td>\n",
       "      <td>0.916667</td>\n",
       "    </tr>\n",
       "    <tr>\n",
       "      <th>146</th>\n",
       "      <td>0.555556</td>\n",
       "      <td>0.208333</td>\n",
       "      <td>0.677966</td>\n",
       "      <td>0.750000</td>\n",
       "    </tr>\n",
       "    <tr>\n",
       "      <th>147</th>\n",
       "      <td>0.611111</td>\n",
       "      <td>0.416667</td>\n",
       "      <td>0.711864</td>\n",
       "      <td>0.791667</td>\n",
       "    </tr>\n",
       "    <tr>\n",
       "      <th>148</th>\n",
       "      <td>0.527778</td>\n",
       "      <td>0.583333</td>\n",
       "      <td>0.745763</td>\n",
       "      <td>0.916667</td>\n",
       "    </tr>\n",
       "    <tr>\n",
       "      <th>149</th>\n",
       "      <td>0.444444</td>\n",
       "      <td>0.416667</td>\n",
       "      <td>0.694915</td>\n",
       "      <td>0.708333</td>\n",
       "    </tr>\n",
       "  </tbody>\n",
       "</table>\n",
       "<p>150 rows × 4 columns</p>\n",
       "</div>"
      ],
      "text/plain": [
       "            0         1         2         3\n",
       "0    0.222222  0.625000  0.067797  0.041667\n",
       "1    0.166667  0.416667  0.067797  0.041667\n",
       "2    0.111111  0.500000  0.050847  0.041667\n",
       "3    0.083333  0.458333  0.084746  0.041667\n",
       "4    0.194444  0.666667  0.067797  0.041667\n",
       "..        ...       ...       ...       ...\n",
       "145  0.666667  0.416667  0.711864  0.916667\n",
       "146  0.555556  0.208333  0.677966  0.750000\n",
       "147  0.611111  0.416667  0.711864  0.791667\n",
       "148  0.527778  0.583333  0.745763  0.916667\n",
       "149  0.444444  0.416667  0.694915  0.708333\n",
       "\n",
       "[150 rows x 4 columns]"
      ]
     },
     "execution_count": 80,
     "metadata": {},
     "output_type": "execute_result"
    }
   ],
   "source": [
    "data_hasil_norm"
   ]
  },
  {
   "cell_type": "code",
   "execution_count": 82,
   "id": "89512c3d-412e-49c8-af5e-8586ddbaa99f",
   "metadata": {},
   "outputs": [
    {
     "data": {
      "text/plain": [
       "sepal_length    0.825301\n",
       "sepal_width     0.434411\n",
       "petal_length    1.759404\n",
       "petal_width     0.759693\n",
       "dtype: float64"
      ]
     },
     "execution_count": 82,
     "metadata": {},
     "output_type": "execute_result"
    }
   ],
   "source": [
    "np.std(df)"
   ]
  },
  {
   "cell_type": "code",
   "execution_count": 83,
   "id": "79c48dee-3298-43a8-aa59-5dc1525695ca",
   "metadata": {},
   "outputs": [],
   "source": [
    "stand_scal = StandardScaler()\n",
    "data_scal = stand_scal.fit_transform(df[['sepal_length', 'sepal_width', 'petal_length', 'petal_width']])"
   ]
  },
  {
   "cell_type": "code",
   "execution_count": 87,
   "id": "49306195-d671-4530-8520-d3aca0176f87",
   "metadata": {},
   "outputs": [],
   "source": [
    "data_hasil_scale = pd.DataFrame(data_scal)"
   ]
  },
  {
   "cell_type": "code",
   "execution_count": 90,
   "id": "c409c2c1-707e-4c55-a723-77854771effe",
   "metadata": {},
   "outputs": [
    {
     "data": {
      "text/html": [
       "<div>\n",
       "<style scoped>\n",
       "    .dataframe tbody tr th:only-of-type {\n",
       "        vertical-align: middle;\n",
       "    }\n",
       "\n",
       "    .dataframe tbody tr th {\n",
       "        vertical-align: top;\n",
       "    }\n",
       "\n",
       "    .dataframe thead th {\n",
       "        text-align: right;\n",
       "    }\n",
       "</style>\n",
       "<table border=\"1\" class=\"dataframe\">\n",
       "  <thead>\n",
       "    <tr style=\"text-align: right;\">\n",
       "      <th></th>\n",
       "      <th>0</th>\n",
       "      <th>1</th>\n",
       "      <th>2</th>\n",
       "      <th>3</th>\n",
       "    </tr>\n",
       "  </thead>\n",
       "  <tbody>\n",
       "    <tr>\n",
       "      <th>0</th>\n",
       "      <td>-0.900681</td>\n",
       "      <td>1.019004</td>\n",
       "      <td>-1.340227</td>\n",
       "      <td>-1.315444</td>\n",
       "    </tr>\n",
       "    <tr>\n",
       "      <th>1</th>\n",
       "      <td>-1.143017</td>\n",
       "      <td>-0.131979</td>\n",
       "      <td>-1.340227</td>\n",
       "      <td>-1.315444</td>\n",
       "    </tr>\n",
       "    <tr>\n",
       "      <th>2</th>\n",
       "      <td>-1.385353</td>\n",
       "      <td>0.328414</td>\n",
       "      <td>-1.397064</td>\n",
       "      <td>-1.315444</td>\n",
       "    </tr>\n",
       "    <tr>\n",
       "      <th>3</th>\n",
       "      <td>-1.506521</td>\n",
       "      <td>0.098217</td>\n",
       "      <td>-1.283389</td>\n",
       "      <td>-1.315444</td>\n",
       "    </tr>\n",
       "    <tr>\n",
       "      <th>4</th>\n",
       "      <td>-1.021849</td>\n",
       "      <td>1.249201</td>\n",
       "      <td>-1.340227</td>\n",
       "      <td>-1.315444</td>\n",
       "    </tr>\n",
       "    <tr>\n",
       "      <th>...</th>\n",
       "      <td>...</td>\n",
       "      <td>...</td>\n",
       "      <td>...</td>\n",
       "      <td>...</td>\n",
       "    </tr>\n",
       "    <tr>\n",
       "      <th>145</th>\n",
       "      <td>1.038005</td>\n",
       "      <td>-0.131979</td>\n",
       "      <td>0.819596</td>\n",
       "      <td>1.448832</td>\n",
       "    </tr>\n",
       "    <tr>\n",
       "      <th>146</th>\n",
       "      <td>0.553333</td>\n",
       "      <td>-1.282963</td>\n",
       "      <td>0.705921</td>\n",
       "      <td>0.922303</td>\n",
       "    </tr>\n",
       "    <tr>\n",
       "      <th>147</th>\n",
       "      <td>0.795669</td>\n",
       "      <td>-0.131979</td>\n",
       "      <td>0.819596</td>\n",
       "      <td>1.053935</td>\n",
       "    </tr>\n",
       "    <tr>\n",
       "      <th>148</th>\n",
       "      <td>0.432165</td>\n",
       "      <td>0.788808</td>\n",
       "      <td>0.933271</td>\n",
       "      <td>1.448832</td>\n",
       "    </tr>\n",
       "    <tr>\n",
       "      <th>149</th>\n",
       "      <td>0.068662</td>\n",
       "      <td>-0.131979</td>\n",
       "      <td>0.762758</td>\n",
       "      <td>0.790671</td>\n",
       "    </tr>\n",
       "  </tbody>\n",
       "</table>\n",
       "<p>150 rows × 4 columns</p>\n",
       "</div>"
      ],
      "text/plain": [
       "            0         1         2         3\n",
       "0   -0.900681  1.019004 -1.340227 -1.315444\n",
       "1   -1.143017 -0.131979 -1.340227 -1.315444\n",
       "2   -1.385353  0.328414 -1.397064 -1.315444\n",
       "3   -1.506521  0.098217 -1.283389 -1.315444\n",
       "4   -1.021849  1.249201 -1.340227 -1.315444\n",
       "..        ...       ...       ...       ...\n",
       "145  1.038005 -0.131979  0.819596  1.448832\n",
       "146  0.553333 -1.282963  0.705921  0.922303\n",
       "147  0.795669 -0.131979  0.819596  1.053935\n",
       "148  0.432165  0.788808  0.933271  1.448832\n",
       "149  0.068662 -0.131979  0.762758  0.790671\n",
       "\n",
       "[150 rows x 4 columns]"
      ]
     },
     "execution_count": 90,
     "metadata": {},
     "output_type": "execute_result"
    }
   ],
   "source": [
    "data_hasil_scale"
   ]
  },
  {
   "cell_type": "code",
   "execution_count": 89,
   "id": "64a2bcf0-ca72-4233-9b9f-313acd549e46",
   "metadata": {},
   "outputs": [
    {
     "data": {
      "text/plain": [
       "1.0"
      ]
     },
     "execution_count": 89,
     "metadata": {},
     "output_type": "execute_result"
    }
   ],
   "source": [
    "np.std(data_scal)"
   ]
  },
  {
   "cell_type": "markdown",
   "id": "ad7e77a8-656b-4fc4-b6c7-0d08a4589be7",
   "metadata": {},
   "source": [
    "##DATA CLEANING"
   ]
  },
  {
   "cell_type": "code",
   "execution_count": 4,
   "id": "51d66ec6-4402-4885-88dd-5946f5947586",
   "metadata": {},
   "outputs": [],
   "source": [
    "data_clean = pd.read_csv('https://raw.githubusercontent.com/rrizwan43/Data-Cleanig-with-SQL/main/Cleaned_nashville_housing_dataset_.csv')"
   ]
  },
  {
   "cell_type": "code",
   "execution_count": 22,
   "id": "13c53082-2a37-4b99-8a66-c25fefd7942e",
   "metadata": {},
   "outputs": [],
   "source": [
    "data_nv = pd.DataFrame(data_clean)"
   ]
  },
  {
   "cell_type": "code",
   "execution_count": 24,
   "id": "16178159-9482-43d7-9291-f187de04fa0d",
   "metadata": {},
   "outputs": [
    {
     "name": "stdout",
     "output_type": "stream",
     "text": [
      "<class 'pandas.core.frame.DataFrame'>\n",
      "RangeIndex: 56373 entries, 0 to 56372\n",
      "Data columns (total 21 columns):\n",
      " #   Column                Non-Null Count  Dtype  \n",
      "---  ------                --------------  -----  \n",
      " 0   UniqueID              56373 non-null  int64  \n",
      " 1   ParcelID              56373 non-null  object \n",
      " 2   LandUse               56373 non-null  object \n",
      " 3   SalePrice             56373 non-null  int64  \n",
      " 4   LegalReference        56373 non-null  object \n",
      " 5   SoldAsVacant          56373 non-null  object \n",
      " 6   OwnerName             25215 non-null  object \n",
      " 7   Acreage               25969 non-null  float64\n",
      " 8   LandValue             25969 non-null  float64\n",
      " 9   BuildingValue         25969 non-null  float64\n",
      " 10  TotalValue            25969 non-null  float64\n",
      " 11  YearBuilt             24118 non-null  float64\n",
      " 12  Bedrooms              24112 non-null  float64\n",
      " 13  FullBath              24230 non-null  float64\n",
      " 14  HalfBath              24099 non-null  float64\n",
      " 15  SALEDATECONVERTED     56373 non-null  object \n",
      " 16  PropertySplitAddress  56373 non-null  object \n",
      " 17  PropertySplitCity     56373 non-null  object \n",
      " 18  OwnerSplitAddress     25969 non-null  object \n",
      " 19  OwnerSplitCity        25969 non-null  object \n",
      " 20  OwnerSplitState       25969 non-null  object \n",
      "dtypes: float64(8), int64(2), object(11)\n",
      "memory usage: 9.0+ MB\n"
     ]
    }
   ],
   "source": [
    "data_nv.info()"
   ]
  },
  {
   "cell_type": "code",
   "execution_count": 25,
   "id": "ebd5e88b-9e43-409e-88d3-7d298d3addc1",
   "metadata": {},
   "outputs": [
    {
     "data": {
      "text/plain": [
       "UniqueID                    0\n",
       "ParcelID                    0\n",
       "LandUse                     0\n",
       "SalePrice                   0\n",
       "LegalReference              0\n",
       "SoldAsVacant                0\n",
       "OwnerName               31158\n",
       "Acreage                 30404\n",
       "LandValue               30404\n",
       "BuildingValue           30404\n",
       "TotalValue              30404\n",
       "YearBuilt               32255\n",
       "Bedrooms                32261\n",
       "FullBath                32143\n",
       "HalfBath                32274\n",
       "SALEDATECONVERTED           0\n",
       "PropertySplitAddress        0\n",
       "PropertySplitCity           0\n",
       "OwnerSplitAddress       30404\n",
       "OwnerSplitCity          30404\n",
       "OwnerSplitState         30404\n",
       "dtype: int64"
      ]
     },
     "execution_count": 25,
     "metadata": {},
     "output_type": "execute_result"
    }
   ],
   "source": [
    "data_nv.isna().sum()"
   ]
  },
  {
   "cell_type": "code",
   "execution_count": 26,
   "id": "c88f94e0-2b1a-405c-bc63-91a590e356f5",
   "metadata": {},
   "outputs": [
    {
     "data": {
      "text/plain": [
       "UniqueID                  int64\n",
       "ParcelID                 object\n",
       "LandUse                  object\n",
       "SalePrice                 int64\n",
       "LegalReference           object\n",
       "SoldAsVacant             object\n",
       "OwnerName                object\n",
       "Acreage                 float64\n",
       "LandValue               float64\n",
       "BuildingValue           float64\n",
       "TotalValue              float64\n",
       "YearBuilt               float64\n",
       "Bedrooms                float64\n",
       "FullBath                float64\n",
       "HalfBath                float64\n",
       "SALEDATECONVERTED        object\n",
       "PropertySplitAddress     object\n",
       "PropertySplitCity        object\n",
       "OwnerSplitAddress        object\n",
       "OwnerSplitCity           object\n",
       "OwnerSplitState          object\n",
       "dtype: object"
      ]
     },
     "execution_count": 26,
     "metadata": {},
     "output_type": "execute_result"
    }
   ],
   "source": [
    "data_nv.dtypes"
   ]
  },
  {
   "cell_type": "code",
   "execution_count": 20,
   "id": "dde2c79b-14df-471e-9db2-527649d412ba",
   "metadata": {},
   "outputs": [],
   "source": [
    "impute_mean = SimpleImputer(strategy='mean')\n",
    "impute_median = SimpleImputer(strategy='median')\n",
    "impute_modus = SimpleImputer(strategy='most_frequent')"
   ]
  },
  {
   "cell_type": "code",
   "execution_count": 30,
   "id": "48789040-22b2-41f2-953a-b95b264c093d",
   "metadata": {},
   "outputs": [],
   "source": [
    "#subtitusi the null value using mean values\n",
    "data_nv['Acreage'] = impute_mean.fit_transform(data_nv[['Acreage']])\n",
    "data_nv['LandValue'] = impute_mean.fit_transform(data_nv[['LandValue']])\n",
    "data_nv['BuildingValue'] = impute_mean.fit_transform(data_nv[['BuildingValue']])\n",
    "data_nv['TotalValue'] = impute_mean.fit_transform(data_nv[['TotalValue']])\n",
    "\n",
    "#subtitusi the null value using median values\n",
    "data_nv['YearBuilt'] = impute_median.fit_transform(data_nv[['YearBuilt']])\n",
    "data_nv['Bedrooms'] = impute_median.fit_transform(data_nv[['Bedrooms']])\n",
    "data_nv['FullBath'] = impute_median.fit_transform(data_nv[['FullBath']])\n",
    "data_nv['HalfBath'] = impute_median.fit_transform(data_nv[['HalfBath']])\n"
   ]
  },
  {
   "cell_type": "code",
   "execution_count": 36,
   "id": "08fe012c-bee3-4bb2-90c4-487404a065e0",
   "metadata": {},
   "outputs": [
    {
     "data": {
      "text/plain": [
       "UniqueID                0\n",
       "ParcelID                0\n",
       "LandUse                 0\n",
       "SalePrice               0\n",
       "LegalReference          0\n",
       "SoldAsVacant            0\n",
       "OwnerName               0\n",
       "Acreage                 0\n",
       "LandValue               0\n",
       "BuildingValue           0\n",
       "TotalValue              0\n",
       "YearBuilt               0\n",
       "Bedrooms                0\n",
       "FullBath                0\n",
       "HalfBath                0\n",
       "SALEDATECONVERTED       0\n",
       "PropertySplitAddress    0\n",
       "PropertySplitCity       0\n",
       "OwnerSplitAddress       0\n",
       "OwnerSplitCity          0\n",
       "OwnerSplitState         0\n",
       "dtype: int64"
      ]
     },
     "execution_count": 36,
     "metadata": {},
     "output_type": "execute_result"
    }
   ],
   "source": [
    "#recheck value \n",
    "data_nv.isna().sum()"
   ]
  },
  {
   "cell_type": "code",
   "execution_count": 34,
   "id": "28218244-a949-47f3-9621-63efb4cf3dd9",
   "metadata": {},
   "outputs": [],
   "source": [
    "#subtitusi the null value using modus values\n",
    "data_nv['OwnerName'] = impute_modus.fit_transform(data_nv[['OwnerName']])\n",
    "data_nv['OwnerSplitAddress'] = impute_modus.fit_transform(data_nv[['OwnerSplitAddress']])\n",
    "data_nv['OwnerSplitCity'] = impute_modus.fit_transform(data_nv[['OwnerSplitCity']])\n",
    "data_nv['OwnerSplitState'] = impute_modus.fit_transform(data_nv[['OwnerSplitState']])"
   ]
  },
  {
   "cell_type": "code",
   "execution_count": 35,
   "id": "e3bc22a4-ab64-4fa7-a57a-3dc4ea9bfb03",
   "metadata": {},
   "outputs": [
    {
     "data": {
      "text/plain": [
       "UniqueID                0\n",
       "ParcelID                0\n",
       "LandUse                 0\n",
       "SalePrice               0\n",
       "LegalReference          0\n",
       "SoldAsVacant            0\n",
       "OwnerName               0\n",
       "Acreage                 0\n",
       "LandValue               0\n",
       "BuildingValue           0\n",
       "TotalValue              0\n",
       "YearBuilt               0\n",
       "Bedrooms                0\n",
       "FullBath                0\n",
       "HalfBath                0\n",
       "SALEDATECONVERTED       0\n",
       "PropertySplitAddress    0\n",
       "PropertySplitCity       0\n",
       "OwnerSplitAddress       0\n",
       "OwnerSplitCity          0\n",
       "OwnerSplitState         0\n",
       "dtype: int64"
      ]
     },
     "execution_count": 35,
     "metadata": {},
     "output_type": "execute_result"
    }
   ],
   "source": [
    "data_nv.isna().sum()"
   ]
  },
  {
   "cell_type": "markdown",
   "id": "8cb21b22-bfd6-4ce5-b2b2-74df9b7d9878",
   "metadata": {},
   "source": [
    "##Wrong Format"
   ]
  },
  {
   "cell_type": "code",
   "execution_count": 38,
   "id": "f90498e5-5a92-4888-b62b-e3d29d0e6b73",
   "metadata": {},
   "outputs": [
    {
     "data": {
      "text/plain": [
       "UniqueID                  int64\n",
       "ParcelID                 object\n",
       "LandUse                  object\n",
       "SalePrice                 int64\n",
       "LegalReference           object\n",
       "SoldAsVacant             object\n",
       "OwnerName                object\n",
       "Acreage                 float64\n",
       "LandValue               float64\n",
       "BuildingValue           float64\n",
       "TotalValue              float64\n",
       "YearBuilt               float64\n",
       "Bedrooms                float64\n",
       "FullBath                float64\n",
       "HalfBath                float64\n",
       "SALEDATECONVERTED        object\n",
       "PropertySplitAddress     object\n",
       "PropertySplitCity        object\n",
       "OwnerSplitAddress        object\n",
       "OwnerSplitCity           object\n",
       "OwnerSplitState          object\n",
       "dtype: object"
      ]
     },
     "execution_count": 38,
     "metadata": {},
     "output_type": "execute_result"
    }
   ],
   "source": [
    "data_nv.dtypes"
   ]
  },
  {
   "cell_type": "code",
   "execution_count": 44,
   "id": "2e6f4c0f-f470-4988-8302-830ebd3835ff",
   "metadata": {},
   "outputs": [
    {
     "data": {
      "text/plain": [
       "dtype('int64')"
      ]
     },
     "execution_count": 44,
     "metadata": {},
     "output_type": "execute_result"
    }
   ],
   "source": [
    "data_nv['Acreage'].astype('int64').dtypes"
   ]
  },
  {
   "cell_type": "markdown",
   "id": "c19f7cfe-d4ce-4f5b-9d3e-46eb3a548896",
   "metadata": {},
   "source": [
    "#Duplicate Values"
   ]
  },
  {
   "cell_type": "code",
   "execution_count": 59,
   "id": "bc7f0b89-a837-4495-bdcf-1dbc9bfa3643",
   "metadata": {},
   "outputs": [
    {
     "data": {
      "text/plain": [
       "2"
      ]
     },
     "execution_count": 59,
     "metadata": {},
     "output_type": "execute_result"
    }
   ],
   "source": [
    "nama = ['asd','joko','sambo','sambo','asd','sola']\n",
    "nilai = [1,2,3,3,1,2]\n",
    "\n",
    "data_duplicate = pd.DataFrame({\n",
    "    'nama' : nama,\n",
    "    'nilai': nilai\n",
    "})\n",
    "\n",
    "data_duplicate.duplicated().sum()"
   ]
  },
  {
   "cell_type": "code",
   "execution_count": 60,
   "id": "fcc6f407-f3e7-48db-ad15-62df4c882a5c",
   "metadata": {},
   "outputs": [],
   "source": [
    "data_duplicate.drop_duplicates(inplace = True)"
   ]
  },
  {
   "cell_type": "code",
   "execution_count": 61,
   "id": "fc270a87-0bd7-4dcb-a49e-259df56ece11",
   "metadata": {},
   "outputs": [
    {
     "data": {
      "text/plain": [
       "0"
      ]
     },
     "execution_count": 61,
     "metadata": {},
     "output_type": "execute_result"
    }
   ],
   "source": [
    "data_duplicate.duplicated().sum()"
   ]
  },
  {
   "cell_type": "code",
   "execution_count": 62,
   "id": "e4d8c449-f25b-4d37-895d-55b814cfd626",
   "metadata": {},
   "outputs": [],
   "source": [
    "##Encoding"
   ]
  },
  {
   "cell_type": "code",
   "execution_count": 66,
   "id": "6fe804a5-66b4-4692-8f2f-8e1f0b827d58",
   "metadata": {},
   "outputs": [],
   "source": [
    "nama = ['asd','joko','sambo','sambo','asd','sola']\n",
    "nilai = [1,2,3,3,1,2]\n",
    "\n",
    "data_duplicate = pd.DataFrame({\n",
    "    'nama' : nama,\n",
    "    'nilai': nilai\n",
    "})"
   ]
  },
  {
   "cell_type": "code",
   "execution_count": 69,
   "id": "6aa529f6-68c5-4ea6-973d-e1fd4f7e259a",
   "metadata": {},
   "outputs": [
    {
     "data": {
      "text/html": [
       "<div>\n",
       "<style scoped>\n",
       "    .dataframe tbody tr th:only-of-type {\n",
       "        vertical-align: middle;\n",
       "    }\n",
       "\n",
       "    .dataframe tbody tr th {\n",
       "        vertical-align: top;\n",
       "    }\n",
       "\n",
       "    .dataframe thead th {\n",
       "        text-align: right;\n",
       "    }\n",
       "</style>\n",
       "<table border=\"1\" class=\"dataframe\">\n",
       "  <thead>\n",
       "    <tr style=\"text-align: right;\">\n",
       "      <th></th>\n",
       "      <th>nama</th>\n",
       "      <th>nilai</th>\n",
       "    </tr>\n",
       "  </thead>\n",
       "  <tbody>\n",
       "    <tr>\n",
       "      <th>0</th>\n",
       "      <td>0</td>\n",
       "      <td>1</td>\n",
       "    </tr>\n",
       "    <tr>\n",
       "      <th>1</th>\n",
       "      <td>1</td>\n",
       "      <td>2</td>\n",
       "    </tr>\n",
       "    <tr>\n",
       "      <th>2</th>\n",
       "      <td>2</td>\n",
       "      <td>3</td>\n",
       "    </tr>\n",
       "    <tr>\n",
       "      <th>3</th>\n",
       "      <td>2</td>\n",
       "      <td>3</td>\n",
       "    </tr>\n",
       "    <tr>\n",
       "      <th>4</th>\n",
       "      <td>0</td>\n",
       "      <td>1</td>\n",
       "    </tr>\n",
       "    <tr>\n",
       "      <th>5</th>\n",
       "      <td>3</td>\n",
       "      <td>2</td>\n",
       "    </tr>\n",
       "  </tbody>\n",
       "</table>\n",
       "</div>"
      ],
      "text/plain": [
       "   nama  nilai\n",
       "0     0      1\n",
       "1     1      2\n",
       "2     2      3\n",
       "3     2      3\n",
       "4     0      1\n",
       "5     3      2"
      ]
     },
     "execution_count": 69,
     "metadata": {},
     "output_type": "execute_result"
    }
   ],
   "source": [
    "encoder = OrdinalEncoder()\n",
    "data_duplicate['nama'] = encoder.fit_transform(data_duplicate[['nama']])\n",
    "data_duplicate.astype('int64')"
   ]
  },
  {
   "cell_type": "code",
   "execution_count": null,
   "id": "db29d679-7c75-41d2-83e7-010296c9e2e6",
   "metadata": {},
   "outputs": [],
   "source": []
  }
 ],
 "metadata": {
  "kernelspec": {
   "display_name": "Python 3 (ipykernel)",
   "language": "python",
   "name": "python3"
  },
  "language_info": {
   "codemirror_mode": {
    "name": "ipython",
    "version": 3
   },
   "file_extension": ".py",
   "mimetype": "text/x-python",
   "name": "python",
   "nbconvert_exporter": "python",
   "pygments_lexer": "ipython3",
   "version": "3.10.7"
  },
  "vscode": {
   "interpreter": {
    "hash": "cf82468c729b6304ed506bfd0627eaaf0228f95b62ceb5ee5f980165fc41435e"
   }
  }
 },
 "nbformat": 4,
 "nbformat_minor": 5
}
