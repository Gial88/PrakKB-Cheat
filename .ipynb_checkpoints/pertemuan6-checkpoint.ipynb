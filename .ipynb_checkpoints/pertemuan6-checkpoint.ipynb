{
 "cells": [
  {
   "cell_type": "code",
   "execution_count": 1,
   "id": "c3e9a33b-71b1-4245-a36b-53ae29ad4602",
   "metadata": {},
   "outputs": [
    {
     "ename": "SyntaxError",
     "evalue": "unterminated string literal (detected at line 5) (3057677721.py, line 5)",
     "output_type": "error",
     "traceback": [
      "\u001b[1;36m  Cell \u001b[1;32mIn [1], line 5\u001b[1;36m\u001b[0m\n\u001b[1;33m    pd.read_csv(\"https://raw.githubusercontent.com/Opensourcefordatascience/Data-sets/\u001b[0m\n\u001b[1;37m                ^\u001b[0m\n\u001b[1;31mSyntaxError\u001b[0m\u001b[1;31m:\u001b[0m unterminated string literal (detected at line 5)\n"
     ]
    }
   ],
   "source": [
    "# Import KMeans\n",
    "from sklearn.cluster import KMeans\n",
    "#Read data (Data Iris)\n",
    "df =\n",
    "pd.read_csv(\"https://raw.githubusercontent.com/Opensourcefordatascience/Data-sets/\n",
    "master/Iris_Data.csv\")\n",
    "#Buat objek dari k means dengan jumlah cluster : 3\n",
    "model = KMeans(n_clusters=3)\n",
    "# Pilih atribut yang akan dilatih\n",
    "points = df[[\"sepal_length\",\"petal_length\"]]\n",
    "# Lakukan fit terhadap model\n",
    "model.fit(points)\n",
    "# Tentukan label untuk cluster\n",
    "labels = model.labels_\n",
    "print(labels)"
   ]
  },
  {
   "cell_type": "code",
   "execution_count": null,
   "id": "cac4d9f8-b6c3-43b6-a86b-00126b39f754",
   "metadata": {},
   "outputs": [],
   "source": []
  }
 ],
 "metadata": {
  "kernelspec": {
   "display_name": "Python 3 (ipykernel)",
   "language": "python",
   "name": "python3"
  },
  "language_info": {
   "codemirror_mode": {
    "name": "ipython",
    "version": 3
   },
   "file_extension": ".py",
   "mimetype": "text/x-python",
   "name": "python",
   "nbconvert_exporter": "python",
   "pygments_lexer": "ipython3",
   "version": "3.10.7"
  }
 },
 "nbformat": 4,
 "nbformat_minor": 5
}
